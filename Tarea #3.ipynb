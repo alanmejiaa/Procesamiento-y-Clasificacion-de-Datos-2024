{
  "cells": [
    {
      "cell_type": "markdown",
      "metadata": {
        "id": "view-in-github",
        "colab_type": "text"
      },
      "source": [
        "<a href=\"https://colab.research.google.com/github/alanmejiaa/Procesamiento-y-Clasificacion-de-Datos-2024/blob/main/Tarea%20%233.ipynb\" target=\"_parent\"><img src=\"https://colab.research.google.com/assets/colab-badge.svg\" alt=\"Open In Colab\"/></a>"
      ]
    },
    {
      "cell_type": "markdown",
      "source": [
        "# **Tarea #3**"
      ],
      "metadata": {
        "id": "kpCZCl2Y-Eyl"
      }
    },
    {
      "cell_type": "markdown",
      "source": [
        "## Tarea (10 puntos)\n",
        "\n",
        "- Hacer diseño de experimentos para comparar modelos y sus hiperparámetros con relación a la clasificación de textos\n",
        "- Escribir un reporte con los hallazgos, metodología y resultados en PDF y subirlo en una sección claramente identificable de tu repositorio."
      ],
      "metadata": {
        "id": "fG3Js6XK-HAX"
      }
    },
    {
      "cell_type": "code",
      "source": [
        "import pandas as pd\n",
        "import matplotlib.pyplot as plt"
      ],
      "metadata": {
        "id": "bE5zDKmy-HtJ"
      },
      "execution_count": 1,
      "outputs": []
    },
    {
      "cell_type": "code",
      "source": [
        "df_net = pd.read_csv('disney.csv', encoding='latin-1')"
      ],
      "metadata": {
        "id": "ZAZ_lvk9_HG0"
      },
      "execution_count": 3,
      "outputs": []
    },
    {
      "cell_type": "code",
      "source": [
        "df_net.head()"
      ],
      "metadata": {
        "id": "7JzedUtB_vef",
        "outputId": "826189b2-845c-4659-c916-f2670fa0a044",
        "colab": {
          "base_uri": "https://localhost:8080/",
          "height": 206
        }
      },
      "execution_count": 4,
      "outputs": [
        {
          "output_type": "execute_result",
          "data": {
            "text/plain": [
              "   Review_ID  Rating Year_Month     Reviewer_Location  \\\n",
              "0  670772142       4     2019-4             Australia   \n",
              "1  670682799       4     2019-5           Philippines   \n",
              "2  670623270       4     2019-4  United Arab Emirates   \n",
              "3  670607911       4     2019-4             Australia   \n",
              "4  670607296       4     2019-4        United Kingdom   \n",
              "\n",
              "                                         Review_Text               Branch  \n",
              "0  If you've ever been to Disneyland anywhere you...  Disneyland_HongKong  \n",
              "1  Its been a while since d last time we visit HK...  Disneyland_HongKong  \n",
              "2  Thanks God it wasn   t too hot or too humid wh...  Disneyland_HongKong  \n",
              "3  HK Disneyland is a great compact park. Unfortu...  Disneyland_HongKong  \n",
              "4  the location is not in the city, took around 1...  Disneyland_HongKong  "
            ],
            "text/html": [
              "\n",
              "  <div id=\"df-e5697f3b-56f7-48e4-8652-c5826b77754b\" class=\"colab-df-container\">\n",
              "    <div>\n",
              "<style scoped>\n",
              "    .dataframe tbody tr th:only-of-type {\n",
              "        vertical-align: middle;\n",
              "    }\n",
              "\n",
              "    .dataframe tbody tr th {\n",
              "        vertical-align: top;\n",
              "    }\n",
              "\n",
              "    .dataframe thead th {\n",
              "        text-align: right;\n",
              "    }\n",
              "</style>\n",
              "<table border=\"1\" class=\"dataframe\">\n",
              "  <thead>\n",
              "    <tr style=\"text-align: right;\">\n",
              "      <th></th>\n",
              "      <th>Review_ID</th>\n",
              "      <th>Rating</th>\n",
              "      <th>Year_Month</th>\n",
              "      <th>Reviewer_Location</th>\n",
              "      <th>Review_Text</th>\n",
              "      <th>Branch</th>\n",
              "    </tr>\n",
              "  </thead>\n",
              "  <tbody>\n",
              "    <tr>\n",
              "      <th>0</th>\n",
              "      <td>670772142</td>\n",
              "      <td>4</td>\n",
              "      <td>2019-4</td>\n",
              "      <td>Australia</td>\n",
              "      <td>If you've ever been to Disneyland anywhere you...</td>\n",
              "      <td>Disneyland_HongKong</td>\n",
              "    </tr>\n",
              "    <tr>\n",
              "      <th>1</th>\n",
              "      <td>670682799</td>\n",
              "      <td>4</td>\n",
              "      <td>2019-5</td>\n",
              "      <td>Philippines</td>\n",
              "      <td>Its been a while since d last time we visit HK...</td>\n",
              "      <td>Disneyland_HongKong</td>\n",
              "    </tr>\n",
              "    <tr>\n",
              "      <th>2</th>\n",
              "      <td>670623270</td>\n",
              "      <td>4</td>\n",
              "      <td>2019-4</td>\n",
              "      <td>United Arab Emirates</td>\n",
              "      <td>Thanks God it wasn   t too hot or too humid wh...</td>\n",
              "      <td>Disneyland_HongKong</td>\n",
              "    </tr>\n",
              "    <tr>\n",
              "      <th>3</th>\n",
              "      <td>670607911</td>\n",
              "      <td>4</td>\n",
              "      <td>2019-4</td>\n",
              "      <td>Australia</td>\n",
              "      <td>HK Disneyland is a great compact park. Unfortu...</td>\n",
              "      <td>Disneyland_HongKong</td>\n",
              "    </tr>\n",
              "    <tr>\n",
              "      <th>4</th>\n",
              "      <td>670607296</td>\n",
              "      <td>4</td>\n",
              "      <td>2019-4</td>\n",
              "      <td>United Kingdom</td>\n",
              "      <td>the location is not in the city, took around 1...</td>\n",
              "      <td>Disneyland_HongKong</td>\n",
              "    </tr>\n",
              "  </tbody>\n",
              "</table>\n",
              "</div>\n",
              "    <div class=\"colab-df-buttons\">\n",
              "\n",
              "  <div class=\"colab-df-container\">\n",
              "    <button class=\"colab-df-convert\" onclick=\"convertToInteractive('df-e5697f3b-56f7-48e4-8652-c5826b77754b')\"\n",
              "            title=\"Convert this dataframe to an interactive table.\"\n",
              "            style=\"display:none;\">\n",
              "\n",
              "  <svg xmlns=\"http://www.w3.org/2000/svg\" height=\"24px\" viewBox=\"0 -960 960 960\">\n",
              "    <path d=\"M120-120v-720h720v720H120Zm60-500h600v-160H180v160Zm220 220h160v-160H400v160Zm0 220h160v-160H400v160ZM180-400h160v-160H180v160Zm440 0h160v-160H620v160ZM180-180h160v-160H180v160Zm440 0h160v-160H620v160Z\"/>\n",
              "  </svg>\n",
              "    </button>\n",
              "\n",
              "  <style>\n",
              "    .colab-df-container {\n",
              "      display:flex;\n",
              "      gap: 12px;\n",
              "    }\n",
              "\n",
              "    .colab-df-convert {\n",
              "      background-color: #E8F0FE;\n",
              "      border: none;\n",
              "      border-radius: 50%;\n",
              "      cursor: pointer;\n",
              "      display: none;\n",
              "      fill: #1967D2;\n",
              "      height: 32px;\n",
              "      padding: 0 0 0 0;\n",
              "      width: 32px;\n",
              "    }\n",
              "\n",
              "    .colab-df-convert:hover {\n",
              "      background-color: #E2EBFA;\n",
              "      box-shadow: 0px 1px 2px rgba(60, 64, 67, 0.3), 0px 1px 3px 1px rgba(60, 64, 67, 0.15);\n",
              "      fill: #174EA6;\n",
              "    }\n",
              "\n",
              "    .colab-df-buttons div {\n",
              "      margin-bottom: 4px;\n",
              "    }\n",
              "\n",
              "    [theme=dark] .colab-df-convert {\n",
              "      background-color: #3B4455;\n",
              "      fill: #D2E3FC;\n",
              "    }\n",
              "\n",
              "    [theme=dark] .colab-df-convert:hover {\n",
              "      background-color: #434B5C;\n",
              "      box-shadow: 0px 1px 3px 1px rgba(0, 0, 0, 0.15);\n",
              "      filter: drop-shadow(0px 1px 2px rgba(0, 0, 0, 0.3));\n",
              "      fill: #FFFFFF;\n",
              "    }\n",
              "  </style>\n",
              "\n",
              "    <script>\n",
              "      const buttonEl =\n",
              "        document.querySelector('#df-e5697f3b-56f7-48e4-8652-c5826b77754b button.colab-df-convert');\n",
              "      buttonEl.style.display =\n",
              "        google.colab.kernel.accessAllowed ? 'block' : 'none';\n",
              "\n",
              "      async function convertToInteractive(key) {\n",
              "        const element = document.querySelector('#df-e5697f3b-56f7-48e4-8652-c5826b77754b');\n",
              "        const dataTable =\n",
              "          await google.colab.kernel.invokeFunction('convertToInteractive',\n",
              "                                                    [key], {});\n",
              "        if (!dataTable) return;\n",
              "\n",
              "        const docLinkHtml = 'Like what you see? Visit the ' +\n",
              "          '<a target=\"_blank\" href=https://colab.research.google.com/notebooks/data_table.ipynb>data table notebook</a>'\n",
              "          + ' to learn more about interactive tables.';\n",
              "        element.innerHTML = '';\n",
              "        dataTable['output_type'] = 'display_data';\n",
              "        await google.colab.output.renderOutput(dataTable, element);\n",
              "        const docLink = document.createElement('div');\n",
              "        docLink.innerHTML = docLinkHtml;\n",
              "        element.appendChild(docLink);\n",
              "      }\n",
              "    </script>\n",
              "  </div>\n",
              "\n",
              "\n",
              "<div id=\"df-f9ab4a1d-118e-429d-8e85-d87ec265e566\">\n",
              "  <button class=\"colab-df-quickchart\" onclick=\"quickchart('df-f9ab4a1d-118e-429d-8e85-d87ec265e566')\"\n",
              "            title=\"Suggest charts\"\n",
              "            style=\"display:none;\">\n",
              "\n",
              "<svg xmlns=\"http://www.w3.org/2000/svg\" height=\"24px\"viewBox=\"0 0 24 24\"\n",
              "     width=\"24px\">\n",
              "    <g>\n",
              "        <path d=\"M19 3H5c-1.1 0-2 .9-2 2v14c0 1.1.9 2 2 2h14c1.1 0 2-.9 2-2V5c0-1.1-.9-2-2-2zM9 17H7v-7h2v7zm4 0h-2V7h2v10zm4 0h-2v-4h2v4z\"/>\n",
              "    </g>\n",
              "</svg>\n",
              "  </button>\n",
              "\n",
              "<style>\n",
              "  .colab-df-quickchart {\n",
              "      --bg-color: #E8F0FE;\n",
              "      --fill-color: #1967D2;\n",
              "      --hover-bg-color: #E2EBFA;\n",
              "      --hover-fill-color: #174EA6;\n",
              "      --disabled-fill-color: #AAA;\n",
              "      --disabled-bg-color: #DDD;\n",
              "  }\n",
              "\n",
              "  [theme=dark] .colab-df-quickchart {\n",
              "      --bg-color: #3B4455;\n",
              "      --fill-color: #D2E3FC;\n",
              "      --hover-bg-color: #434B5C;\n",
              "      --hover-fill-color: #FFFFFF;\n",
              "      --disabled-bg-color: #3B4455;\n",
              "      --disabled-fill-color: #666;\n",
              "  }\n",
              "\n",
              "  .colab-df-quickchart {\n",
              "    background-color: var(--bg-color);\n",
              "    border: none;\n",
              "    border-radius: 50%;\n",
              "    cursor: pointer;\n",
              "    display: none;\n",
              "    fill: var(--fill-color);\n",
              "    height: 32px;\n",
              "    padding: 0;\n",
              "    width: 32px;\n",
              "  }\n",
              "\n",
              "  .colab-df-quickchart:hover {\n",
              "    background-color: var(--hover-bg-color);\n",
              "    box-shadow: 0 1px 2px rgba(60, 64, 67, 0.3), 0 1px 3px 1px rgba(60, 64, 67, 0.15);\n",
              "    fill: var(--button-hover-fill-color);\n",
              "  }\n",
              "\n",
              "  .colab-df-quickchart-complete:disabled,\n",
              "  .colab-df-quickchart-complete:disabled:hover {\n",
              "    background-color: var(--disabled-bg-color);\n",
              "    fill: var(--disabled-fill-color);\n",
              "    box-shadow: none;\n",
              "  }\n",
              "\n",
              "  .colab-df-spinner {\n",
              "    border: 2px solid var(--fill-color);\n",
              "    border-color: transparent;\n",
              "    border-bottom-color: var(--fill-color);\n",
              "    animation:\n",
              "      spin 1s steps(1) infinite;\n",
              "  }\n",
              "\n",
              "  @keyframes spin {\n",
              "    0% {\n",
              "      border-color: transparent;\n",
              "      border-bottom-color: var(--fill-color);\n",
              "      border-left-color: var(--fill-color);\n",
              "    }\n",
              "    20% {\n",
              "      border-color: transparent;\n",
              "      border-left-color: var(--fill-color);\n",
              "      border-top-color: var(--fill-color);\n",
              "    }\n",
              "    30% {\n",
              "      border-color: transparent;\n",
              "      border-left-color: var(--fill-color);\n",
              "      border-top-color: var(--fill-color);\n",
              "      border-right-color: var(--fill-color);\n",
              "    }\n",
              "    40% {\n",
              "      border-color: transparent;\n",
              "      border-right-color: var(--fill-color);\n",
              "      border-top-color: var(--fill-color);\n",
              "    }\n",
              "    60% {\n",
              "      border-color: transparent;\n",
              "      border-right-color: var(--fill-color);\n",
              "    }\n",
              "    80% {\n",
              "      border-color: transparent;\n",
              "      border-right-color: var(--fill-color);\n",
              "      border-bottom-color: var(--fill-color);\n",
              "    }\n",
              "    90% {\n",
              "      border-color: transparent;\n",
              "      border-bottom-color: var(--fill-color);\n",
              "    }\n",
              "  }\n",
              "</style>\n",
              "\n",
              "  <script>\n",
              "    async function quickchart(key) {\n",
              "      const quickchartButtonEl =\n",
              "        document.querySelector('#' + key + ' button');\n",
              "      quickchartButtonEl.disabled = true;  // To prevent multiple clicks.\n",
              "      quickchartButtonEl.classList.add('colab-df-spinner');\n",
              "      try {\n",
              "        const charts = await google.colab.kernel.invokeFunction(\n",
              "            'suggestCharts', [key], {});\n",
              "      } catch (error) {\n",
              "        console.error('Error during call to suggestCharts:', error);\n",
              "      }\n",
              "      quickchartButtonEl.classList.remove('colab-df-spinner');\n",
              "      quickchartButtonEl.classList.add('colab-df-quickchart-complete');\n",
              "    }\n",
              "    (() => {\n",
              "      let quickchartButtonEl =\n",
              "        document.querySelector('#df-f9ab4a1d-118e-429d-8e85-d87ec265e566 button');\n",
              "      quickchartButtonEl.style.display =\n",
              "        google.colab.kernel.accessAllowed ? 'block' : 'none';\n",
              "    })();\n",
              "  </script>\n",
              "</div>\n",
              "\n",
              "    </div>\n",
              "  </div>\n"
            ],
            "application/vnd.google.colaboratory.intrinsic+json": {
              "type": "dataframe",
              "variable_name": "df_net",
              "summary": "{\n  \"name\": \"df_net\",\n  \"rows\": 42656,\n  \"fields\": [\n    {\n      \"column\": \"Review_ID\",\n      \"properties\": {\n        \"dtype\": \"number\",\n        \"std\": 165709224,\n        \"min\": 1398724,\n        \"max\": 670801367,\n        \"num_unique_values\": 42636,\n        \"samples\": [\n          443940017,\n          289625345,\n          143729284\n        ],\n        \"semantic_type\": \"\",\n        \"description\": \"\"\n      }\n    },\n    {\n      \"column\": \"Rating\",\n      \"properties\": {\n        \"dtype\": \"number\",\n        \"std\": 1,\n        \"min\": 1,\n        \"max\": 5,\n        \"num_unique_values\": 5,\n        \"samples\": [\n          3,\n          1,\n          5\n        ],\n        \"semantic_type\": \"\",\n        \"description\": \"\"\n      }\n    },\n    {\n      \"column\": \"Year_Month\",\n      \"properties\": {\n        \"dtype\": \"category\",\n        \"num_unique_values\": 112,\n        \"samples\": [\n          \"2016-2\",\n          \"2014-1\",\n          \"2019-1\"\n        ],\n        \"semantic_type\": \"\",\n        \"description\": \"\"\n      }\n    },\n    {\n      \"column\": \"Reviewer_Location\",\n      \"properties\": {\n        \"dtype\": \"category\",\n        \"num_unique_values\": 162,\n        \"samples\": [\n          \"El Salvador\",\n          \"South Sudan\",\n          \"Honduras\"\n        ],\n        \"semantic_type\": \"\",\n        \"description\": \"\"\n      }\n    },\n    {\n      \"column\": \"Review_Text\",\n      \"properties\": {\n        \"dtype\": \"string\",\n        \"num_unique_values\": 42632,\n        \"samples\": [\n          \"take a child with you to see their excitement. I had my 4 yr old grandson to see how they enjoyed. there are any number of locations to spend the whole day. time passes to the night until the fireworks ending the show.\",\n          \"If you can get discount tickets do your best to do that. The weekdays are the best to go as they're not as crowded. Get fast passes for the rides that offer it. The workers are really nice. One of the workers on Nemo overheard it was my daughter's 3rd birthday. She asked why she didn't have a birthday button and I said I didn't know about them. When we got off the ride she had one waiting for us and put my daughter's name on it. It was really special.\",\n          \"As always the great joy for the kids makes up for the ridiculously high costs of food and drink! Still a winner for the kids   our 3 year old grandson and our 25 year old daughter and her husband. Fast pass is a must if you don't want to queue for hours. But rides deliver and staff were I have no idea how! The food and drinks are atrociously expensive and the food inside is dreadful. Dinner at Pirates of the Caribbean was 2.5 hours of misery, warm food and dreadful service. How do they get it so wrong. Eat in the village just outside the park so much better! \"\n        ],\n        \"semantic_type\": \"\",\n        \"description\": \"\"\n      }\n    },\n    {\n      \"column\": \"Branch\",\n      \"properties\": {\n        \"dtype\": \"category\",\n        \"num_unique_values\": 3,\n        \"samples\": [\n          \"Disneyland_HongKong\",\n          \"Disneyland_California\",\n          \"Disneyland_Paris\"\n        ],\n        \"semantic_type\": \"\",\n        \"description\": \"\"\n      }\n    }\n  ]\n}"
            }
          },
          "metadata": {},
          "execution_count": 4
        }
      ]
    },
    {
      "cell_type": "code",
      "source": [
        "# consideramos las columnas necesarias\n",
        "df_net = df_net[['Review_Text','Rating']]"
      ],
      "metadata": {
        "id": "RtQFca9kAGcN"
      },
      "execution_count": 5,
      "outputs": []
    },
    {
      "cell_type": "code",
      "source": [
        "df_net.head()"
      ],
      "metadata": {
        "id": "WH7O0Cz1AOYc",
        "outputId": "66402451-3389-4138-ee2a-f14d8103bede",
        "colab": {
          "base_uri": "https://localhost:8080/",
          "height": 206
        }
      },
      "execution_count": 6,
      "outputs": [
        {
          "output_type": "execute_result",
          "data": {
            "text/plain": [
              "                                         Review_Text  Rating\n",
              "0  If you've ever been to Disneyland anywhere you...       4\n",
              "1  Its been a while since d last time we visit HK...       4\n",
              "2  Thanks God it wasn   t too hot or too humid wh...       4\n",
              "3  HK Disneyland is a great compact park. Unfortu...       4\n",
              "4  the location is not in the city, took around 1...       4"
            ],
            "text/html": [
              "\n",
              "  <div id=\"df-61bf588c-71d2-41b2-ac49-cc3f852b8eec\" class=\"colab-df-container\">\n",
              "    <div>\n",
              "<style scoped>\n",
              "    .dataframe tbody tr th:only-of-type {\n",
              "        vertical-align: middle;\n",
              "    }\n",
              "\n",
              "    .dataframe tbody tr th {\n",
              "        vertical-align: top;\n",
              "    }\n",
              "\n",
              "    .dataframe thead th {\n",
              "        text-align: right;\n",
              "    }\n",
              "</style>\n",
              "<table border=\"1\" class=\"dataframe\">\n",
              "  <thead>\n",
              "    <tr style=\"text-align: right;\">\n",
              "      <th></th>\n",
              "      <th>Review_Text</th>\n",
              "      <th>Rating</th>\n",
              "    </tr>\n",
              "  </thead>\n",
              "  <tbody>\n",
              "    <tr>\n",
              "      <th>0</th>\n",
              "      <td>If you've ever been to Disneyland anywhere you...</td>\n",
              "      <td>4</td>\n",
              "    </tr>\n",
              "    <tr>\n",
              "      <th>1</th>\n",
              "      <td>Its been a while since d last time we visit HK...</td>\n",
              "      <td>4</td>\n",
              "    </tr>\n",
              "    <tr>\n",
              "      <th>2</th>\n",
              "      <td>Thanks God it wasn   t too hot or too humid wh...</td>\n",
              "      <td>4</td>\n",
              "    </tr>\n",
              "    <tr>\n",
              "      <th>3</th>\n",
              "      <td>HK Disneyland is a great compact park. Unfortu...</td>\n",
              "      <td>4</td>\n",
              "    </tr>\n",
              "    <tr>\n",
              "      <th>4</th>\n",
              "      <td>the location is not in the city, took around 1...</td>\n",
              "      <td>4</td>\n",
              "    </tr>\n",
              "  </tbody>\n",
              "</table>\n",
              "</div>\n",
              "    <div class=\"colab-df-buttons\">\n",
              "\n",
              "  <div class=\"colab-df-container\">\n",
              "    <button class=\"colab-df-convert\" onclick=\"convertToInteractive('df-61bf588c-71d2-41b2-ac49-cc3f852b8eec')\"\n",
              "            title=\"Convert this dataframe to an interactive table.\"\n",
              "            style=\"display:none;\">\n",
              "\n",
              "  <svg xmlns=\"http://www.w3.org/2000/svg\" height=\"24px\" viewBox=\"0 -960 960 960\">\n",
              "    <path d=\"M120-120v-720h720v720H120Zm60-500h600v-160H180v160Zm220 220h160v-160H400v160Zm0 220h160v-160H400v160ZM180-400h160v-160H180v160Zm440 0h160v-160H620v160ZM180-180h160v-160H180v160Zm440 0h160v-160H620v160Z\"/>\n",
              "  </svg>\n",
              "    </button>\n",
              "\n",
              "  <style>\n",
              "    .colab-df-container {\n",
              "      display:flex;\n",
              "      gap: 12px;\n",
              "    }\n",
              "\n",
              "    .colab-df-convert {\n",
              "      background-color: #E8F0FE;\n",
              "      border: none;\n",
              "      border-radius: 50%;\n",
              "      cursor: pointer;\n",
              "      display: none;\n",
              "      fill: #1967D2;\n",
              "      height: 32px;\n",
              "      padding: 0 0 0 0;\n",
              "      width: 32px;\n",
              "    }\n",
              "\n",
              "    .colab-df-convert:hover {\n",
              "      background-color: #E2EBFA;\n",
              "      box-shadow: 0px 1px 2px rgba(60, 64, 67, 0.3), 0px 1px 3px 1px rgba(60, 64, 67, 0.15);\n",
              "      fill: #174EA6;\n",
              "    }\n",
              "\n",
              "    .colab-df-buttons div {\n",
              "      margin-bottom: 4px;\n",
              "    }\n",
              "\n",
              "    [theme=dark] .colab-df-convert {\n",
              "      background-color: #3B4455;\n",
              "      fill: #D2E3FC;\n",
              "    }\n",
              "\n",
              "    [theme=dark] .colab-df-convert:hover {\n",
              "      background-color: #434B5C;\n",
              "      box-shadow: 0px 1px 3px 1px rgba(0, 0, 0, 0.15);\n",
              "      filter: drop-shadow(0px 1px 2px rgba(0, 0, 0, 0.3));\n",
              "      fill: #FFFFFF;\n",
              "    }\n",
              "  </style>\n",
              "\n",
              "    <script>\n",
              "      const buttonEl =\n",
              "        document.querySelector('#df-61bf588c-71d2-41b2-ac49-cc3f852b8eec button.colab-df-convert');\n",
              "      buttonEl.style.display =\n",
              "        google.colab.kernel.accessAllowed ? 'block' : 'none';\n",
              "\n",
              "      async function convertToInteractive(key) {\n",
              "        const element = document.querySelector('#df-61bf588c-71d2-41b2-ac49-cc3f852b8eec');\n",
              "        const dataTable =\n",
              "          await google.colab.kernel.invokeFunction('convertToInteractive',\n",
              "                                                    [key], {});\n",
              "        if (!dataTable) return;\n",
              "\n",
              "        const docLinkHtml = 'Like what you see? Visit the ' +\n",
              "          '<a target=\"_blank\" href=https://colab.research.google.com/notebooks/data_table.ipynb>data table notebook</a>'\n",
              "          + ' to learn more about interactive tables.';\n",
              "        element.innerHTML = '';\n",
              "        dataTable['output_type'] = 'display_data';\n",
              "        await google.colab.output.renderOutput(dataTable, element);\n",
              "        const docLink = document.createElement('div');\n",
              "        docLink.innerHTML = docLinkHtml;\n",
              "        element.appendChild(docLink);\n",
              "      }\n",
              "    </script>\n",
              "  </div>\n",
              "\n",
              "\n",
              "<div id=\"df-4bb33b4e-4e70-4801-a1fa-16a1d8b5d6e8\">\n",
              "  <button class=\"colab-df-quickchart\" onclick=\"quickchart('df-4bb33b4e-4e70-4801-a1fa-16a1d8b5d6e8')\"\n",
              "            title=\"Suggest charts\"\n",
              "            style=\"display:none;\">\n",
              "\n",
              "<svg xmlns=\"http://www.w3.org/2000/svg\" height=\"24px\"viewBox=\"0 0 24 24\"\n",
              "     width=\"24px\">\n",
              "    <g>\n",
              "        <path d=\"M19 3H5c-1.1 0-2 .9-2 2v14c0 1.1.9 2 2 2h14c1.1 0 2-.9 2-2V5c0-1.1-.9-2-2-2zM9 17H7v-7h2v7zm4 0h-2V7h2v10zm4 0h-2v-4h2v4z\"/>\n",
              "    </g>\n",
              "</svg>\n",
              "  </button>\n",
              "\n",
              "<style>\n",
              "  .colab-df-quickchart {\n",
              "      --bg-color: #E8F0FE;\n",
              "      --fill-color: #1967D2;\n",
              "      --hover-bg-color: #E2EBFA;\n",
              "      --hover-fill-color: #174EA6;\n",
              "      --disabled-fill-color: #AAA;\n",
              "      --disabled-bg-color: #DDD;\n",
              "  }\n",
              "\n",
              "  [theme=dark] .colab-df-quickchart {\n",
              "      --bg-color: #3B4455;\n",
              "      --fill-color: #D2E3FC;\n",
              "      --hover-bg-color: #434B5C;\n",
              "      --hover-fill-color: #FFFFFF;\n",
              "      --disabled-bg-color: #3B4455;\n",
              "      --disabled-fill-color: #666;\n",
              "  }\n",
              "\n",
              "  .colab-df-quickchart {\n",
              "    background-color: var(--bg-color);\n",
              "    border: none;\n",
              "    border-radius: 50%;\n",
              "    cursor: pointer;\n",
              "    display: none;\n",
              "    fill: var(--fill-color);\n",
              "    height: 32px;\n",
              "    padding: 0;\n",
              "    width: 32px;\n",
              "  }\n",
              "\n",
              "  .colab-df-quickchart:hover {\n",
              "    background-color: var(--hover-bg-color);\n",
              "    box-shadow: 0 1px 2px rgba(60, 64, 67, 0.3), 0 1px 3px 1px rgba(60, 64, 67, 0.15);\n",
              "    fill: var(--button-hover-fill-color);\n",
              "  }\n",
              "\n",
              "  .colab-df-quickchart-complete:disabled,\n",
              "  .colab-df-quickchart-complete:disabled:hover {\n",
              "    background-color: var(--disabled-bg-color);\n",
              "    fill: var(--disabled-fill-color);\n",
              "    box-shadow: none;\n",
              "  }\n",
              "\n",
              "  .colab-df-spinner {\n",
              "    border: 2px solid var(--fill-color);\n",
              "    border-color: transparent;\n",
              "    border-bottom-color: var(--fill-color);\n",
              "    animation:\n",
              "      spin 1s steps(1) infinite;\n",
              "  }\n",
              "\n",
              "  @keyframes spin {\n",
              "    0% {\n",
              "      border-color: transparent;\n",
              "      border-bottom-color: var(--fill-color);\n",
              "      border-left-color: var(--fill-color);\n",
              "    }\n",
              "    20% {\n",
              "      border-color: transparent;\n",
              "      border-left-color: var(--fill-color);\n",
              "      border-top-color: var(--fill-color);\n",
              "    }\n",
              "    30% {\n",
              "      border-color: transparent;\n",
              "      border-left-color: var(--fill-color);\n",
              "      border-top-color: var(--fill-color);\n",
              "      border-right-color: var(--fill-color);\n",
              "    }\n",
              "    40% {\n",
              "      border-color: transparent;\n",
              "      border-right-color: var(--fill-color);\n",
              "      border-top-color: var(--fill-color);\n",
              "    }\n",
              "    60% {\n",
              "      border-color: transparent;\n",
              "      border-right-color: var(--fill-color);\n",
              "    }\n",
              "    80% {\n",
              "      border-color: transparent;\n",
              "      border-right-color: var(--fill-color);\n",
              "      border-bottom-color: var(--fill-color);\n",
              "    }\n",
              "    90% {\n",
              "      border-color: transparent;\n",
              "      border-bottom-color: var(--fill-color);\n",
              "    }\n",
              "  }\n",
              "</style>\n",
              "\n",
              "  <script>\n",
              "    async function quickchart(key) {\n",
              "      const quickchartButtonEl =\n",
              "        document.querySelector('#' + key + ' button');\n",
              "      quickchartButtonEl.disabled = true;  // To prevent multiple clicks.\n",
              "      quickchartButtonEl.classList.add('colab-df-spinner');\n",
              "      try {\n",
              "        const charts = await google.colab.kernel.invokeFunction(\n",
              "            'suggestCharts', [key], {});\n",
              "      } catch (error) {\n",
              "        console.error('Error during call to suggestCharts:', error);\n",
              "      }\n",
              "      quickchartButtonEl.classList.remove('colab-df-spinner');\n",
              "      quickchartButtonEl.classList.add('colab-df-quickchart-complete');\n",
              "    }\n",
              "    (() => {\n",
              "      let quickchartButtonEl =\n",
              "        document.querySelector('#df-4bb33b4e-4e70-4801-a1fa-16a1d8b5d6e8 button');\n",
              "      quickchartButtonEl.style.display =\n",
              "        google.colab.kernel.accessAllowed ? 'block' : 'none';\n",
              "    })();\n",
              "  </script>\n",
              "</div>\n",
              "\n",
              "    </div>\n",
              "  </div>\n"
            ],
            "application/vnd.google.colaboratory.intrinsic+json": {
              "type": "dataframe",
              "variable_name": "df_net",
              "summary": "{\n  \"name\": \"df_net\",\n  \"rows\": 42656,\n  \"fields\": [\n    {\n      \"column\": \"Review_Text\",\n      \"properties\": {\n        \"dtype\": \"string\",\n        \"num_unique_values\": 42632,\n        \"samples\": [\n          \"take a child with you to see their excitement. I had my 4 yr old grandson to see how they enjoyed. there are any number of locations to spend the whole day. time passes to the night until the fireworks ending the show.\",\n          \"If you can get discount tickets do your best to do that. The weekdays are the best to go as they're not as crowded. Get fast passes for the rides that offer it. The workers are really nice. One of the workers on Nemo overheard it was my daughter's 3rd birthday. She asked why she didn't have a birthday button and I said I didn't know about them. When we got off the ride she had one waiting for us and put my daughter's name on it. It was really special.\",\n          \"As always the great joy for the kids makes up for the ridiculously high costs of food and drink! Still a winner for the kids   our 3 year old grandson and our 25 year old daughter and her husband. Fast pass is a must if you don't want to queue for hours. But rides deliver and staff were I have no idea how! The food and drinks are atrociously expensive and the food inside is dreadful. Dinner at Pirates of the Caribbean was 2.5 hours of misery, warm food and dreadful service. How do they get it so wrong. Eat in the village just outside the park so much better! \"\n        ],\n        \"semantic_type\": \"\",\n        \"description\": \"\"\n      }\n    },\n    {\n      \"column\": \"Rating\",\n      \"properties\": {\n        \"dtype\": \"number\",\n        \"std\": 1,\n        \"min\": 1,\n        \"max\": 5,\n        \"num_unique_values\": 5,\n        \"samples\": [\n          3,\n          1,\n          5\n        ],\n        \"semantic_type\": \"\",\n        \"description\": \"\"\n      }\n    }\n  ]\n}"
            }
          },
          "metadata": {},
          "execution_count": 6
        }
      ]
    },
    {
      "cell_type": "code",
      "source": [
        "# crearemos una clasificacion para score que si menor o igual a 3 es negativo y si es mayor a 3 positivo\n",
        "df_net['clasificacion'] = df_net['Rating'].apply(lambda x: 'positivo' if x > 3 else 'negativo')"
      ],
      "metadata": {
        "id": "j9xpbzAmASWT"
      },
      "execution_count": 9,
      "outputs": []
    },
    {
      "cell_type": "code",
      "source": [
        "df_net.info()"
      ],
      "metadata": {
        "id": "JAGmlJiMAoTr",
        "outputId": "2b4f4bb5-3ec7-487f-ee0b-d0bc82c19919",
        "colab": {
          "base_uri": "https://localhost:8080/"
        }
      },
      "execution_count": 10,
      "outputs": [
        {
          "output_type": "stream",
          "name": "stdout",
          "text": [
            "<class 'pandas.core.frame.DataFrame'>\n",
            "RangeIndex: 42656 entries, 0 to 42655\n",
            "Data columns (total 3 columns):\n",
            " #   Column         Non-Null Count  Dtype \n",
            "---  ------         --------------  ----- \n",
            " 0   Review_Text    42656 non-null  object\n",
            " 1   Rating         42656 non-null  int64 \n",
            " 2   clasificacion  42656 non-null  object\n",
            "dtypes: int64(1), object(2)\n",
            "memory usage: 999.9+ KB\n"
          ]
        }
      ]
    },
    {
      "cell_type": "markdown",
      "source": [
        "# Visualización de los datos"
      ],
      "metadata": {
        "id": "DeubKoZbAs4I"
      }
    },
    {
      "cell_type": "code",
      "source": [
        "# distribución de las clasificaciones\n",
        "\n",
        "df_net['clasificacion'].value_counts().plot(kind='bar', color='skyblue')\n",
        "plt.title('Distribución de las Clasificaciones')\n",
        "plt.xlabel('Clasificación')\n",
        "plt.ylabel('Frecuencia')\n",
        "plt.show()"
      ],
      "metadata": {
        "id": "hQ4nTu3IA1Ku",
        "outputId": "5d21f8c7-31f0-47e3-a8e5-27e8640e28db",
        "colab": {
          "base_uri": "https://localhost:8080/",
          "height": 519
        }
      },
      "execution_count": 11,
      "outputs": [
        {
          "output_type": "display_data",
          "data": {
            "text/plain": [
              "<Figure size 640x480 with 1 Axes>"
            ],
            "image/png": "[encoded data removed]"
          },
          "metadata": {}
        }
      ]
    },
    {
      "cell_type": "code",
      "source": [
        "#distribución de número de palabras y la frecuencia de las reseñas\n",
        "\n",
        "df_net['review_length'] = df_net['Review_Text'].apply(lambda x: len(str(x).split()))\n",
        "df_net['review_length'].plot(kind='hist', bins=50, color='skyblue')\n",
        "plt.title('Distribución de la Longitud de las Reseñas')\n",
        "plt.xlabel('Número de Palabras')\n",
        "plt.ylabel('Frecuencia')\n",
        "plt.show()"
      ],
      "metadata": {
        "id": "vG-aOMyuA81t",
        "outputId": "c9598415-1149-4898-f55f-84de27b11ac0",
        "colab": {
          "base_uri": "https://localhost:8080/",
          "height": 472
        }
      },
      "execution_count": 15,
      "outputs": [
        {
          "output_type": "display_data",
          "data": {
            "text/plain": [
              "<Figure size 640x480 with 1 Axes>"
            ],
            "image/png": "[encoded data removed]"
          },
          "metadata": {}
        }
      ]
    },
    {
      "cell_type": "code",
      "source": [
        "import re\n",
        "import nltk\n",
        "from nltk.corpus import stopwords\n",
        "from nltk.stem import WordNetLemmatizer\n",
        "nltk.download('stopwords')\n",
        "nltk.download('wordnet')"
      ],
      "metadata": {
        "id": "ZLHZg5YABiQF",
        "outputId": "02a86937-83dd-48bb-c24d-9b6b6e8aaf1e",
        "colab": {
          "base_uri": "https://localhost:8080/"
        }
      },
      "execution_count": 16,
      "outputs": [
        {
          "output_type": "stream",
          "name": "stderr",
          "text": [
            "[nltk_data] Downloading package stopwords to /root/nltk_data...\n",
            "[nltk_data]   Unzipping corpora/stopwords.zip.\n",
            "[nltk_data] Downloading package wordnet to /root/nltk_data...\n"
          ]
        },
        {
          "output_type": "execute_result",
          "data": {
            "text/plain": [
              "True"
            ]
          },
          "metadata": {},
          "execution_count": 16
        }
      ]
    },
    {
      "cell_type": "code",
      "source": [
        "# preprocesamiento del texto, eliminamos, limpiamos, tokenizamos, lematizamos\n",
        "def preprocess_text(text):\n",
        "    # Manejamos valores que no son cadenas de texto y regresamos cadenas vacias\n",
        "    if not isinstance(text, (str, bytes)):\n",
        "        return \"\"\n",
        "\n",
        "    text = re.sub(r'\\W', ' ', text)\n",
        "    text = text.lower()\n",
        "    tokens = text.split()\n",
        "    stop_words = set(stopwords.words('english'))\n",
        "    tokens = [word for word in tokens if word not in stop_words]\n",
        "\n",
        "    lemmatizer = WordNetLemmatizer()\n",
        "    tokens = [lemmatizer.lemmatize(word) for word in tokens]\n",
        "    return ' '.join(tokens)\n",
        "\n",
        "# aplicamos\n",
        "df_net['cleaned_review'] = df_net['Review_Text'].apply(preprocess_text)"
      ],
      "metadata": {
        "id": "JFHlpZ4-BnkV"
      },
      "execution_count": 22,
      "outputs": []
    },
    {
      "cell_type": "code",
      "source": [
        "print(df_net[['Review_Text', 'cleaned_content', 'clasificacion']].head())"
      ],
      "metadata": {
        "id": "Wnvg5vVAB3IN",
        "outputId": "c56ea196-acec-41d2-dfe7-d4a0d2cfb664",
        "colab": {
          "base_uri": "https://localhost:8080/"
        }
      },
      "execution_count": 23,
      "outputs": [
        {
          "output_type": "stream",
          "name": "stdout",
          "text": [
            "                                         Review_Text  \\\n",
            "0  If you've ever been to Disneyland anywhere you...   \n",
            "1  Its been a while since d last time we visit HK...   \n",
            "2  Thanks God it wasn   t too hot or too humid wh...   \n",
            "3  HK Disneyland is a great compact park. Unfortu...   \n",
            "4  the location is not in the city, took around 1...   \n",
            "\n",
            "                                     cleaned_content clasificacion  \n",
            "0  ever disneyland anywhere find disneyland hong ...      positivo  \n",
            "1  since last time visit hk disneyland yet time s...      positivo  \n",
            "2  thanks god hot humid visiting park otherwise w...      positivo  \n",
            "3  hk disneyland great compact park unfortunately...      positivo  \n",
            "4  location city took around 1 hour kowlon kid li...      positivo  \n"
          ]
        }
      ]
    },
    {
      "cell_type": "markdown",
      "source": [
        "# Modelos, vectores y resultados."
      ],
      "metadata": {
        "id": "Z05HgPWuCxsg"
      }
    },
    {
      "cell_type": "markdown",
      "source": [
        "Entrenamiento y prueba"
      ],
      "metadata": {
        "id": "2kAq3iDXC2pO"
      }
    },
    {
      "cell_type": "code",
      "source": [
        "from sklearn.model_selection import train_test_split\n",
        "from sklearn.feature_extraction.text import TfidfVectorizer, CountVectorizer\n",
        "from sklearn.linear_model import LogisticRegression\n",
        "from sklearn.ensemble import RandomForestClassifier\n",
        "from sklearn.metrics import classification_report, accuracy_score, confusion_matrix\n",
        "import seaborn as sns\n",
        "import warnings\n",
        "warnings.filterwarnings('ignore')"
      ],
      "metadata": {
        "id": "KcLXbm_-Cxcg"
      },
      "execution_count": 24,
      "outputs": []
    },
    {
      "cell_type": "code",
      "source": [
        "# dividimos los datos en conjuntos de entrenamiento y prueba 80 y 20\n",
        "X = df_net['cleaned_content']\n",
        "y = df_net['clasificacion']\n",
        "X_train, X_test, y_train, y_test = train_test_split(X, y, test_size=0.2, random_state=42)"
      ],
      "metadata": {
        "id": "WTqRpOBmC-aw"
      },
      "execution_count": 25,
      "outputs": []
    },
    {
      "cell_type": "code",
      "source": [
        "# vectorización\n",
        "vectorizers = {\n",
        "    \"Count n-grams\": CountVectorizer(ngram_range=(2, 3)),\n",
        "    \"TF-IDF\": TfidfVectorizer(),\n",
        "    \"TF-IDF n-grams\": TfidfVectorizer(ngram_range=(2, 3))\n",
        "}"
      ],
      "metadata": {
        "id": "5-CLdoUQDBQJ"
      },
      "execution_count": 26,
      "outputs": []
    },
    {
      "cell_type": "code",
      "source": [
        "models = {\n",
        "    \"Logistic Regression\": LogisticRegression(),\n",
        "    \"Random Forest\": RandomForestClassifier(n_estimators=100, max_depth=10, random_state=42)\n",
        "}"
      ],
      "metadata": {
        "id": "1_eUDJ-nDE0t"
      },
      "execution_count": 27,
      "outputs": []
    },
    {
      "cell_type": "code",
      "source": [
        "# entrenamos y evaluamos\n",
        "results = []\n",
        "\n",
        "for vec_name, vectorizer in vectorizers.items():\n",
        "    X_train_vec = vectorizer.fit_transform(X_train)\n",
        "    X_test_vec = vectorizer.transform(X_test)\n",
        "\n",
        "    for model_name, model in models.items():\n",
        "        model.fit(X_train_vec, y_train)\n",
        "        y_pred = model.predict(X_test_vec)\n",
        "\n",
        "        accuracy = accuracy_score(y_test, y_pred)\n",
        "        report = classification_report(y_test, y_pred, output_dict=True)\n",
        "        cm = confusion_matrix(y_test, y_pred)\n",
        "\n",
        "        results.append({\n",
        "            \"Model\": model_name,\n",
        "            \"Vectorizer\": vec_name,\n",
        "            \"Accuracy\": accuracy,\n",
        "            \"Report\": report,\n",
        "            \"Confusion Matrix\": cm\n",
        "        })"
      ],
      "metadata": {
        "id": "gzZjtOdQDH_R"
      },
      "execution_count": 28,
      "outputs": []
    },
    {
      "cell_type": "code",
      "source": [
        "for result in results:\n",
        "    print(f\"Model: {result['Model']} with {result['Vectorizer']}\")\n",
        "    print(\"Accuracy:\", result[\"Accuracy\"])\n",
        "    df_report = pd.DataFrame(result[\"Report\"]).transpose()\n",
        "    print(df_report)\n",
        "    print(\"\\n\" + \"=\"*80 + \"\\n\")"
      ],
      "metadata": {
        "id": "JE01QxrBD0_Z",
        "outputId": "b2c2aa0b-45c9-4671-9daf-37fefbffaaab",
        "colab": {
          "base_uri": "https://localhost:8080/"
        }
      },
      "execution_count": 29,
      "outputs": [
        {
          "output_type": "stream",
          "name": "stdout",
          "text": [
            "Model: Logistic Regression with Count n-grams\n",
            "Accuracy: 0.8543131739334271\n",
            "              precision    recall  f1-score      support\n",
            "negativo       0.812195  0.379487  0.517282  1755.000000\n",
            "positivo       0.858791  0.977276  0.914211  6777.000000\n",
            "accuracy       0.854313  0.854313  0.854313     0.854313\n",
            "macro avg      0.835493  0.678382  0.715746  8532.000000\n",
            "weighted avg   0.849207  0.854313  0.832564  8532.000000\n",
            "\n",
            "================================================================================\n",
            "\n",
            "Model: Random Forest with Count n-grams\n",
            "Accuracy: 0.7943037974683544\n",
            "              precision    recall  f1-score      support\n",
            "negativo       0.000000  0.000000  0.000000  1755.000000\n",
            "positivo       0.794304  1.000000  0.885362  6777.000000\n",
            "accuracy       0.794304  0.794304  0.794304     0.794304\n",
            "macro avg      0.397152  0.500000  0.442681  8532.000000\n",
            "weighted avg   0.630919  0.794304  0.703246  8532.000000\n",
            "\n",
            "================================================================================\n",
            "\n",
            "Model: Logistic Regression with TF-IDF\n",
            "Accuracy: 0.8791608063759963\n",
            "              precision    recall  f1-score      support\n",
            "negativo       0.795752  0.554986  0.653911  1755.000000\n",
            "positivo       0.893131  0.963111  0.926802  6777.000000\n",
            "accuracy       0.879161  0.879161  0.879161     0.879161\n",
            "macro avg      0.844441  0.759048  0.790356  8532.000000\n",
            "weighted avg   0.873100  0.879161  0.870669  8532.000000\n",
            "\n",
            "================================================================================\n",
            "\n",
            "Model: Random Forest with TF-IDF\n",
            "Accuracy: 0.7944210032817628\n",
            "              precision    recall  f1-score      support\n",
            "negativo       1.000000  0.000570  0.001139  1755.000000\n",
            "positivo       0.794397  1.000000  0.885419  6777.000000\n",
            "accuracy       0.794421  0.794421  0.794421     0.794421\n",
            "macro avg      0.897198  0.500285  0.443279  8532.000000\n",
            "weighted avg   0.836689  0.794421  0.703526  8532.000000\n",
            "\n",
            "================================================================================\n",
            "\n",
            "Model: Logistic Regression with TF-IDF n-grams\n",
            "Accuracy: 0.8116502578527895\n",
            "              precision    recall  f1-score     support\n",
            "negativo       0.940476  0.090028  0.164327  1755.00000\n",
            "positivo       0.809063  0.998524  0.893864  6777.00000\n",
            "accuracy       0.811650  0.811650  0.811650     0.81165\n",
            "macro avg      0.874769  0.544276  0.529095  8532.00000\n",
            "weighted avg   0.836094  0.811650  0.743801  8532.00000\n",
            "\n",
            "================================================================================\n",
            "\n",
            "Model: Random Forest with TF-IDF n-grams\n",
            "Accuracy: 0.7943037974683544\n",
            "              precision    recall  f1-score      support\n",
            "negativo       0.000000  0.000000  0.000000  1755.000000\n",
            "positivo       0.794304  1.000000  0.885362  6777.000000\n",
            "accuracy       0.794304  0.794304  0.794304     0.794304\n",
            "macro avg      0.397152  0.500000  0.442681  8532.000000\n",
            "weighted avg   0.630919  0.794304  0.703246  8532.000000\n",
            "\n",
            "================================================================================\n",
            "\n"
          ]
        }
      ]
    },
    {
      "cell_type": "code",
      "source": [
        "# vectorizamos y entrenamos el modelo\n",
        "vectorizer = TfidfVectorizer()\n",
        "X_train_vec = vectorizer.fit_transform(X_train)\n",
        "X_test_vec = vectorizer.transform(X_test)\n",
        "\n",
        "best_model = LogisticRegression(C=1.0, solver='liblinear')\n",
        "best_model.fit(X_train_vec, y_train)\n",
        "y_pred = best_model.predict(X_test_vec)\n",
        "\n",
        "# calculamos la matriz\n",
        "cm = confusion_matrix(y_test, y_pred)"
      ],
      "metadata": {
        "id": "aTFCoIUvEBNO"
      },
      "execution_count": 30,
      "outputs": []
    },
    {
      "cell_type": "code",
      "source": [
        "plt.figure(figsize=(8, 6))\n",
        "sns.heatmap(cm, annot=True, fmt=\"d\", cmap=\"Blues\", xticklabels=['Negativo', 'Positivo'], yticklabels=['Negativo', 'Positivo'])\n",
        "plt.title('Matriz de Confusión para Regresión Logística con TF-IDF')\n",
        "plt.xlabel('Falso')\n",
        "plt.ylabel('Verdadero')\n",
        "plt.show()"
      ],
      "metadata": {
        "id": "gjiYoN6eEFy5",
        "outputId": "b9dca5fb-2473-4b2f-b7f3-1cedd49707ff",
        "colab": {
          "base_uri": "https://localhost:8080/",
          "height": 565
        }
      },
      "execution_count": 31,
      "outputs": [
        {
          "output_type": "display_data",
          "data": {
            "text/plain": [
              "<Figure size 800x600 with 2 Axes>"
            ],
            "image/png": "[encoded data removed]"
          },
          "metadata": {}
        }
      ]
    },
    {
      "cell_type": "markdown",
      "source": [
        "# Modelos hiperparametros ajustados"
      ],
      "metadata": {
        "id": "AJ4768P1FJem"
      }
    },
    {
      "cell_type": "code",
      "source": [
        "# aplicamos ajustes a los modelos\n",
        "lr_params = {\n",
        "    'C': 0.5,\n",
        "    'solver': 'liblinear'\n",
        "}\n",
        "\n",
        "rf_params = {\n",
        "    'n_estimators': 200,\n",
        "    'max_depth': 20,\n",
        "    'min_samples_split': 5,\n",
        "    'min_samples_leaf': 2,\n",
        "    'random_state': 42\n",
        "}\n",
        "\n",
        "models_adjusted = {\n",
        "    \"Logistic Regression (Adjusted)\": LogisticRegression(**lr_params),\n",
        "    \"Random Forest (Adjusted)\": RandomForestClassifier(**rf_params)\n",
        "}"
      ],
      "metadata": {
        "id": "64Eh8ZCYFNzR"
      },
      "execution_count": 32,
      "outputs": []
    },
    {
      "cell_type": "code",
      "source": [
        "# combinamos\n",
        "models.update(models_adjusted)"
      ],
      "metadata": {
        "id": "EJBwZm6GFRXr"
      },
      "execution_count": 33,
      "outputs": []
    },
    {
      "cell_type": "code",
      "source": [
        "# entrenamiento y evaluacion del modelo\n",
        "results = []\n",
        "\n",
        "for vec_name, vectorizer in vectorizers.items():\n",
        "    X_train_vec = vectorizer.fit_transform(X_train)\n",
        "    X_test_vec = vectorizer.transform(X_test)\n",
        "\n",
        "    for model_name, model in models.items():\n",
        "        model.fit(X_train_vec, y_train)\n",
        "        y_pred = model.predict(X_test_vec)\n",
        "\n",
        "        accuracy = accuracy_score(y_test, y_pred)\n",
        "        report = classification_report(y_test, y_pred, output_dict=True)\n",
        "        cm = confusion_matrix(y_test, y_pred)\n",
        "\n",
        "        results.append({\n",
        "            \"Model\": model_name,\n",
        "            \"Vectorizer\": vec_name,\n",
        "            \"Accuracy\": accuracy,\n",
        "            \"Report\": report,\n",
        "            \"Confusion Matrix\": cm\n",
        "        })"
      ],
      "metadata": {
        "id": "ka8MN6wsFWNz"
      },
      "execution_count": 34,
      "outputs": []
    },
    {
      "cell_type": "code",
      "source": [
        "for result in results:\n",
        "    print(f\"Model: {result['Model']} with {result['Vectorizer']}\")\n",
        "    print(\"Accuracy:\", result[\"Accuracy\"])\n",
        "    df_report = pd.DataFrame(result[\"Report\"]).transpose()\n",
        "    print(df_report)\n",
        "    print(\"\\n\" + \"=\"*80 + \"\\n\")"
      ],
      "metadata": {
        "id": "cxsXBW0AGrub",
        "outputId": "dbc29ec1-602a-4686-b11f-18bfe208709c",
        "colab": {
          "base_uri": "https://localhost:8080/"
        }
      },
      "execution_count": 35,
      "outputs": [
        {
          "output_type": "stream",
          "name": "stdout",
          "text": [
            "Model: Logistic Regression with Count n-grams\n",
            "Accuracy: 0.8543131739334271\n",
            "              precision    recall  f1-score      support\n",
            "negativo       0.812195  0.379487  0.517282  1755.000000\n",
            "positivo       0.858791  0.977276  0.914211  6777.000000\n",
            "accuracy       0.854313  0.854313  0.854313     0.854313\n",
            "macro avg      0.835493  0.678382  0.715746  8532.000000\n",
            "weighted avg   0.849207  0.854313  0.832564  8532.000000\n",
            "\n",
            "================================================================================\n",
            "\n",
            "Model: Random Forest with Count n-grams\n",
            "Accuracy: 0.7943037974683544\n",
            "              precision    recall  f1-score      support\n",
            "negativo       0.000000  0.000000  0.000000  1755.000000\n",
            "positivo       0.794304  1.000000  0.885362  6777.000000\n",
            "accuracy       0.794304  0.794304  0.794304     0.794304\n",
            "macro avg      0.397152  0.500000  0.442681  8532.000000\n",
            "weighted avg   0.630919  0.794304  0.703246  8532.000000\n",
            "\n",
            "================================================================================\n",
            "\n",
            "Model: Logistic Regression (Adjusted) with Count n-grams\n",
            "Accuracy: 0.8540787623066104\n",
            "              precision    recall  f1-score      support\n",
            "negativo       0.821970  0.370940  0.511190  1755.000000\n",
            "positivo       0.857364  0.979194  0.914238  6777.000000\n",
            "accuracy       0.854079  0.854079  0.854079     0.854079\n",
            "macro avg      0.839667  0.675067  0.712714  8532.000000\n",
            "weighted avg   0.850084  0.854079  0.831333  8532.000000\n",
            "\n",
            "================================================================================\n",
            "\n",
            "Model: Random Forest (Adjusted) with Count n-grams\n",
            "Accuracy: 0.7943037974683544\n",
            "              precision    recall  f1-score      support\n",
            "negativo       0.000000  0.000000  0.000000  1755.000000\n",
            "positivo       0.794304  1.000000  0.885362  6777.000000\n",
            "accuracy       0.794304  0.794304  0.794304     0.794304\n",
            "macro avg      0.397152  0.500000  0.442681  8532.000000\n",
            "weighted avg   0.630919  0.794304  0.703246  8532.000000\n",
            "\n",
            "================================================================================\n",
            "\n",
            "Model: Logistic Regression with TF-IDF\n",
            "Accuracy: 0.8791608063759963\n",
            "              precision    recall  f1-score      support\n",
            "negativo       0.795752  0.554986  0.653911  1755.000000\n",
            "positivo       0.893131  0.963111  0.926802  6777.000000\n",
            "accuracy       0.879161  0.879161  0.879161     0.879161\n",
            "macro avg      0.844441  0.759048  0.790356  8532.000000\n",
            "weighted avg   0.873100  0.879161  0.870669  8532.000000\n",
            "\n",
            "================================================================================\n",
            "\n",
            "Model: Random Forest with TF-IDF\n",
            "Accuracy: 0.7944210032817628\n",
            "              precision    recall  f1-score      support\n",
            "negativo       1.000000  0.000570  0.001139  1755.000000\n",
            "positivo       0.794397  1.000000  0.885419  6777.000000\n",
            "accuracy       0.794421  0.794421  0.794421     0.794421\n",
            "macro avg      0.897198  0.500285  0.443279  8532.000000\n",
            "weighted avg   0.836689  0.794421  0.703526  8532.000000\n",
            "\n",
            "================================================================================\n",
            "\n",
            "Model: Logistic Regression (Adjusted) with TF-IDF\n",
            "Accuracy: 0.8762306610407876\n",
            "              precision    recall  f1-score      support\n",
            "negativo       0.817439  0.512821  0.630252  1755.000000\n",
            "positivo       0.884941  0.970341  0.925676  6777.000000\n",
            "accuracy       0.876231  0.876231  0.876231     0.876231\n",
            "macro avg      0.851190  0.741581  0.777964  8532.000000\n",
            "weighted avg   0.871056  0.876231  0.864908  8532.000000\n",
            "\n",
            "================================================================================\n",
            "\n",
            "Model: Random Forest (Adjusted) with TF-IDF\n",
            "Accuracy: 0.796882325363338\n",
            "              precision    recall  f1-score      support\n",
            "negativo       1.000000  0.012536  0.024761  1755.000000\n",
            "positivo       0.796357  1.000000  0.886636  6777.000000\n",
            "accuracy       0.796882  0.796882  0.796882     0.796882\n",
            "macro avg      0.898179  0.506268  0.455698  8532.000000\n",
            "weighted avg   0.838246  0.796882  0.709351  8532.000000\n",
            "\n",
            "================================================================================\n",
            "\n",
            "Model: Logistic Regression with TF-IDF n-grams\n",
            "Accuracy: 0.8116502578527895\n",
            "              precision    recall  f1-score     support\n",
            "negativo       0.940476  0.090028  0.164327  1755.00000\n",
            "positivo       0.809063  0.998524  0.893864  6777.00000\n",
            "accuracy       0.811650  0.811650  0.811650     0.81165\n",
            "macro avg      0.874769  0.544276  0.529095  8532.00000\n",
            "weighted avg   0.836094  0.811650  0.743801  8532.00000\n",
            "\n",
            "================================================================================\n",
            "\n",
            "Model: Random Forest with TF-IDF n-grams\n",
            "Accuracy: 0.7943037974683544\n",
            "              precision    recall  f1-score      support\n",
            "negativo       0.000000  0.000000  0.000000  1755.000000\n",
            "positivo       0.794304  1.000000  0.885362  6777.000000\n",
            "accuracy       0.794304  0.794304  0.794304     0.794304\n",
            "macro avg      0.397152  0.500000  0.442681  8532.000000\n",
            "weighted avg   0.630919  0.794304  0.703246  8532.000000\n",
            "\n",
            "================================================================================\n",
            "\n",
            "Model: Logistic Regression (Adjusted) with TF-IDF n-grams\n",
            "Accuracy: 0.796530707923113\n",
            "              precision    recall  f1-score      support\n",
            "negativo       1.000000  0.010826  0.021421  1755.000000\n",
            "positivo       0.796077  1.000000  0.886462  6777.000000\n",
            "accuracy       0.796531  0.796531  0.796531     0.796531\n",
            "macro avg      0.898038  0.505413  0.453941  8532.000000\n",
            "weighted avg   0.838023  0.796531  0.708526  8532.000000\n",
            "\n",
            "================================================================================\n",
            "\n",
            "Model: Random Forest (Adjusted) with TF-IDF n-grams\n",
            "Accuracy: 0.7943037974683544\n",
            "              precision    recall  f1-score      support\n",
            "negativo       0.000000  0.000000  0.000000  1755.000000\n",
            "positivo       0.794304  1.000000  0.885362  6777.000000\n",
            "accuracy       0.794304  0.794304  0.794304     0.794304\n",
            "macro avg      0.397152  0.500000  0.442681  8532.000000\n",
            "weighted avg   0.630919  0.794304  0.703246  8532.000000\n",
            "\n",
            "================================================================================\n",
            "\n"
          ]
        }
      ]
    },
    {
      "cell_type": "code",
      "source": [
        "# vectorizacion y entrenamiento\n",
        "vectorizer = TfidfVectorizer()\n",
        "X_train_vec = vectorizer.fit_transform(X_train)\n",
        "X_test_vec = vectorizer.transform(X_test)\n",
        "\n",
        "best_model = LogisticRegression(C=0.5, solver='liblinear')\n",
        "best_model.fit(X_train_vec, y_train)\n",
        "y_pred = best_model.predict(X_test_vec)\n",
        "\n",
        "# calculamos\n",
        "cm = confusion_matrix(y_test, y_pred)"
      ],
      "metadata": {
        "id": "1s_D0TprGuV7"
      },
      "execution_count": 36,
      "outputs": []
    },
    {
      "cell_type": "code",
      "source": [
        "# matriz de confusión\n",
        "plt.figure(figsize=(8, 6))\n",
        "sns.heatmap(cm, annot=True, fmt=\"d\", cmap=\"Blues\", xticklabels=['Negativo', 'Positivo'], yticklabels=['Negativo', 'Positivo'])\n",
        "plt.title('Matriz de Confusión para Logistic Regression (Adjusted) con TF-IDF')\n",
        "plt.xlabel('Predicho')\n",
        "plt.ylabel('Actual')\n",
        "plt.show()"
      ],
      "metadata": {
        "id": "CxDms5xlHoX1",
        "outputId": "fc33ef3f-9e82-41ca-8730-f2e21ffc5a27",
        "colab": {
          "base_uri": "https://localhost:8080/",
          "height": 565
        }
      },
      "execution_count": 37,
      "outputs": [
        {
          "output_type": "display_data",
          "data": {
            "text/plain": [
              "<Figure size 800x600 with 2 Axes>"
            ],
            "image/png": "[encoded data removed]"
          },
          "metadata": {}
        }
      ]
    }
  ],
  "metadata": {
    "colab": {
      "name": "Welcome To Colab",
      "provenance": [],
      "include_colab_link": true
    },
    "kernelspec": {
      "display_name": "Python 3",
      "name": "python3"
    }
  },
  "nbformat": 4,
  "nbformat_minor": 0
}