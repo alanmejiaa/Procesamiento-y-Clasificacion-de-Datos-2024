{
  "cells": [
    {
      "cell_type": "markdown",
      "metadata": {
        "id": "view-in-github",
        "colab_type": "text"
      },
      "source": [
        "<a href=\"https://colab.research.google.com/github/alanmejiaa/Procesamiento-y-Clasificacion-de-Datos-2024/blob/main/Tarea%20%233.ipynb\" target=\"_parent\"><img src=\"https://colab.research.google.com/assets/colab-badge.svg\" alt=\"Open In Colab\"/></a>"
      ]
    },
    {
      "cell_type": "markdown",
      "source": [
        "# **Tarea #3**"
      ],
      "metadata": {
        "id": "zAlEYqWx4Sfg"
      }
    },
    {
      "cell_type": "markdown",
      "source": [
        "## Tarea (10 puntos)\n",
        "\n",
        "- Hacer diseño de experimentos para comparar modelos y sus hiperparámetros con relación a la clasificación de textos\n",
        "- Escribir un reporte con los hallazgos, metodología y resultados en PDF y subirlo en una sección claramente identificable de tu repositorio."
      ],
      "metadata": {
        "id": "1tfpIz094TDt"
      }
    },
    {
      "cell_type": "markdown",
      "source": [
        "En esta ocasion seleccionamos reseñas a cerca del parque de diversiones Disney, por lo que queremos clasificar los resultados de acuerdo a que tan buena o mala es la reseña"
      ],
      "metadata": {
        "id": "BLgvEdW_4V3Y"
      }
    },
    {
      "cell_type": "code",
      "source": [
        "import pandas as pd\n",
        "import matplotlib.pyplot as plt\n",
        "import re\n",
        "import nltk\n",
        "from nltk.corpus import stopwords\n",
        "from nltk.stem import WordNetLemmatizer\n",
        "from sklearn.model_selection import train_test_split\n",
        "from sklearn.feature_extraction.text import TfidfVectorizer, CountVectorizer\n",
        "from sklearn.linear_model import LogisticRegression\n",
        "from sklearn.ensemble import RandomForestClassifier\n",
        "from sklearn.metrics import classification_report, accuracy_score, confusion_matrix\n",
        "import seaborn as sns\n",
        "import warnings"
      ],
      "metadata": {
        "id": "oMWqjd6E4oYr"
      },
      "execution_count": 1,
      "outputs": []
    },
    {
      "cell_type": "code",
      "source": [
        "# Ignorar advertencias\n",
        "warnings.filterwarnings('ignore')"
      ],
      "metadata": {
        "id": "H3hEw0kC4vpg"
      },
      "execution_count": 2,
      "outputs": []
    },
    {
      "cell_type": "code",
      "source": [
        "# Cargar datos\n",
        "df_reviews = pd.read_csv('disney.csv', encoding='latin-1')\n",
        "df_reviews = df_reviews[['Review_Text', 'Rating']]"
      ],
      "metadata": {
        "id": "widmVzuh4z30"
      },
      "execution_count": 4,
      "outputs": []
    },
    {
      "cell_type": "code",
      "source": [
        "# Clasificación de reseñas\n",
        "df_reviews['Label'] = df_reviews['Rating'].apply(lambda x: 'Good' if x > 3 else 'Bad')"
      ],
      "metadata": {
        "id": "_bK4f8Hb5fNU"
      },
      "execution_count": 5,
      "outputs": []
    },
    {
      "cell_type": "code",
      "source": [
        "# Información del DataFrame\n",
        "df_reviews.info()"
      ],
      "metadata": {
        "id": "Hy5enbbP5nhR",
        "outputId": "e586a06b-2dca-49de-bcce-bb923bfe980e",
        "colab": {
          "base_uri": "https://localhost:8080/"
        }
      },
      "execution_count": 6,
      "outputs": [
        {
          "output_type": "stream",
          "name": "stdout",
          "text": [
            "<class 'pandas.core.frame.DataFrame'>\n",
            "RangeIndex: 42656 entries, 0 to 42655\n",
            "Data columns (total 3 columns):\n",
            " #   Column       Non-Null Count  Dtype \n",
            "---  ------       --------------  ----- \n",
            " 0   Review_Text  42656 non-null  object\n",
            " 1   Rating       42656 non-null  int64 \n",
            " 2   Label        42656 non-null  object\n",
            "dtypes: int64(1), object(2)\n",
            "memory usage: 999.9+ KB\n"
          ]
        }
      ]
    },
    {
      "cell_type": "code",
      "source": [
        "# Gráfico de distribución de clasificaciones\n",
        "df_reviews['Label'].value_counts().plot(kind='bar', color='red')\n",
        "plt.title('Distribución de las Clasificaciones')\n",
        "plt.xlabel('Clasificación')\n",
        "plt.ylabel('Frecuencia')\n",
        "plt.show()"
      ],
      "metadata": {
        "id": "YdL38Qlh5qOg",
        "outputId": "61f74c1d-a3fe-497b-aa52-6df99662e2a9",
        "colab": {
          "base_uri": "https://localhost:8080/",
          "height": 494
        }
      },
      "execution_count": 8,
      "outputs": [
        {
          "output_type": "display_data",
          "data": {
            "text/plain": [
              "<Figure size 640x480 with 1 Axes>"
            ],
            "image/png": "[encoded data removed]"
          },
          "metadata": {}
        }
      ]
    },
    {
      "cell_type": "code",
      "source": [
        "# Longitud de las reseñas\n",
        "df_reviews['Review_Length'] = df_reviews['Review_Text'].apply(lambda x: len(str(x).split()))\n",
        "df_reviews['Review_Length'].plot(kind='hist', bins=50, color='red')\n",
        "plt.title('Distribución de la Longitud de las Reseñas')\n",
        "plt.xlabel('Número de Palabras')\n",
        "plt.ylabel('Frecuencia')\n",
        "plt.show()"
      ],
      "metadata": {
        "id": "wnc4xWPp5rba",
        "outputId": "43176622-660b-4c66-9d8b-79513db7d752",
        "colab": {
          "base_uri": "https://localhost:8080/",
          "height": 472
        }
      },
      "execution_count": 9,
      "outputs": [
        {
          "output_type": "display_data",
          "data": {
            "text/plain": [
              "<Figure size 640x480 with 1 Axes>"
            ],
            "image/png": "[encoded data removed]"
          },
          "metadata": {}
        }
      ]
    },
    {
      "cell_type": "code",
      "source": [
        "# Descargar recursos de NLTK\n",
        "nltk.download('stopwords')\n",
        "nltk.download('wordnet')"
      ],
      "metadata": {
        "id": "hOaGw9KA53i4",
        "outputId": "e83f3158-9712-4dea-a4af-287ffd006d2c",
        "colab": {
          "base_uri": "https://localhost:8080/"
        }
      },
      "execution_count": 10,
      "outputs": [
        {
          "output_type": "stream",
          "name": "stderr",
          "text": [
            "[nltk_data] Downloading package stopwords to /root/nltk_data...\n",
            "[nltk_data]   Unzipping corpora/stopwords.zip.\n",
            "[nltk_data] Downloading package wordnet to /root/nltk_data...\n"
          ]
        },
        {
          "output_type": "execute_result",
          "data": {
            "text/plain": [
              "True"
            ]
          },
          "metadata": {},
          "execution_count": 10
        }
      ]
    },
    {
      "cell_type": "code",
      "source": [
        "# Preprocesamiento del texto\n",
        "def preprocess_text(text):\n",
        "    if not isinstance(text, (str, bytes)):\n",
        "        return \"\"\n",
        "\n",
        "    text = re.sub(r'\\W', ' ', text)\n",
        "    text = text.lower()\n",
        "    tokens = text.split()\n",
        "    stop_words = set(stopwords.words('english'))\n",
        "    tokens = [word for word in tokens if word not in stop_words]\n",
        "\n",
        "    lemmatizer = WordNetLemmatizer()\n",
        "    tokens = [lemmatizer.lemmatize(word) for word in tokens]\n",
        "    return ' '.join(tokens)\n"
      ],
      "metadata": {
        "id": "iNYUwAmg5-YF"
      },
      "execution_count": 11,
      "outputs": []
    },
    {
      "cell_type": "code",
      "source": [
        "df_reviews['Cleaned_Review'] = df_reviews['Review_Text'].apply(preprocess_text)"
      ],
      "metadata": {
        "id": "lp2ZOlpO5_UW"
      },
      "execution_count": 12,
      "outputs": []
    },
    {
      "cell_type": "code",
      "source": [
        "print(df_reviews[['Review_Text', 'Cleaned_Review', 'Label']].head())"
      ],
      "metadata": {
        "id": "jV4_LVYd6P1f",
        "outputId": "8a8fd738-7920-4b5d-95f5-7140efea8bc0",
        "colab": {
          "base_uri": "https://localhost:8080/"
        }
      },
      "execution_count": 13,
      "outputs": [
        {
          "output_type": "stream",
          "name": "stdout",
          "text": [
            "                                         Review_Text  \\\n",
            "0  If you've ever been to Disneyland anywhere you...   \n",
            "1  Its been a while since d last time we visit HK...   \n",
            "2  Thanks God it wasn   t too hot or too humid wh...   \n",
            "3  HK Disneyland is a great compact park. Unfortu...   \n",
            "4  the location is not in the city, took around 1...   \n",
            "\n",
            "                                      Cleaned_Review Label  \n",
            "0  ever disneyland anywhere find disneyland hong ...  Good  \n",
            "1  since last time visit hk disneyland yet time s...  Good  \n",
            "2  thanks god hot humid visiting park otherwise w...  Good  \n",
            "3  hk disneyland great compact park unfortunately...  Good  \n",
            "4  location city took around 1 hour kowlon kid li...  Good  \n"
          ]
        }
      ]
    },
    {
      "cell_type": "code",
      "source": [
        "# División de los datos en conjuntos de entrenamiento y prueba\n",
        "X = df_reviews['Cleaned_Review']\n",
        "y = df_reviews['Label']\n",
        "X_train, X_test, y_train, y_test = train_test_split(X, y, test_size=0.2, random_state=42)"
      ],
      "metadata": {
        "id": "2qfcELwk6S5S"
      },
      "execution_count": 14,
      "outputs": []
    },
    {
      "cell_type": "code",
      "source": [
        "# Vectorizadores y modelos\n",
        "vectorizers = {\n",
        "    \"Count n-grams\": CountVectorizer(ngram_range=(2, 3)),\n",
        "    \"TF-IDF\": TfidfVectorizer(),\n",
        "    \"TF-IDF n-grams\": TfidfVectorizer(ngram_range=(2, 3))\n",
        "}\n",
        "\n",
        "models = {\n",
        "    \"Logistic Regression\": LogisticRegression(),\n",
        "    \"Random Forest\": RandomForestClassifier(n_estimators=100, max_depth=10, random_state=42)\n",
        "}"
      ],
      "metadata": {
        "id": "DElqxowe6Vt_"
      },
      "execution_count": 15,
      "outputs": []
    },
    {
      "cell_type": "code",
      "source": [
        "# Entrenamiento y evaluación\n",
        "results = []\n",
        "\n",
        "for vec_name, vectorizer in vectorizers.items():\n",
        "    X_train_vec = vectorizer.fit_transform(X_train)\n",
        "    X_test_vec = vectorizer.transform(X_test)\n",
        "\n",
        "    for model_name, model in models.items():\n",
        "        model.fit(X_train_vec, y_train)\n",
        "        y_pred = model.predict(X_test_vec)\n",
        "\n",
        "        accuracy = accuracy_score(y_test, y_pred)\n",
        "        report = classification_report(y_test, y_pred, output_dict=True)\n",
        "        cm = confusion_matrix(y_test, y_pred)\n",
        "\n",
        "        results.append({\n",
        "            \"Model\": model_name,\n",
        "            \"Vectorizer\": vec_name,\n",
        "            \"Accuracy\": accuracy,\n",
        "            \"Report\": report,\n",
        "            \"Confusion Matrix\": cm\n",
        "        })\n"
      ],
      "metadata": {
        "id": "zW6gOCuR6gQ9"
      },
      "execution_count": 17,
      "outputs": []
    },
    {
      "cell_type": "code",
      "source": [
        "for result in results:\n",
        "    print(f\"Model: {result['Model']} with {result['Vectorizer']}\")\n",
        "    print(\"Accuracy:\", result[\"Accuracy\"])\n",
        "    df_report = pd.DataFrame(result[\"Report\"]).transpose()\n",
        "    print(df_report)\n",
        "    print(\"\\n\" + \"=\"*80 + \"\\n\")"
      ],
      "metadata": {
        "id": "RkLQtaXG7wxv",
        "outputId": "b2d1c1f0-445b-44cc-8f6f-38ff1c5225fe",
        "colab": {
          "base_uri": "https://localhost:8080/"
        }
      },
      "execution_count": 18,
      "outputs": [
        {
          "output_type": "stream",
          "name": "stdout",
          "text": [
            "Model: Logistic Regression with Count n-grams\n",
            "Accuracy: 0.8543131739334271\n",
            "              precision    recall  f1-score      support\n",
            "Bad            0.812195  0.379487  0.517282  1755.000000\n",
            "Good           0.858791  0.977276  0.914211  6777.000000\n",
            "accuracy       0.854313  0.854313  0.854313     0.854313\n",
            "macro avg      0.835493  0.678382  0.715746  8532.000000\n",
            "weighted avg   0.849207  0.854313  0.832564  8532.000000\n",
            "\n",
            "================================================================================\n",
            "\n",
            "Model: Random Forest with Count n-grams\n",
            "Accuracy: 0.7943037974683544\n",
            "              precision    recall  f1-score      support\n",
            "Bad            0.000000  0.000000  0.000000  1755.000000\n",
            "Good           0.794304  1.000000  0.885362  6777.000000\n",
            "accuracy       0.794304  0.794304  0.794304     0.794304\n",
            "macro avg      0.397152  0.500000  0.442681  8532.000000\n",
            "weighted avg   0.630919  0.794304  0.703246  8532.000000\n",
            "\n",
            "================================================================================\n",
            "\n",
            "Model: Logistic Regression with TF-IDF\n",
            "Accuracy: 0.8791608063759963\n",
            "              precision    recall  f1-score      support\n",
            "Bad            0.795752  0.554986  0.653911  1755.000000\n",
            "Good           0.893131  0.963111  0.926802  6777.000000\n",
            "accuracy       0.879161  0.879161  0.879161     0.879161\n",
            "macro avg      0.844441  0.759048  0.790356  8532.000000\n",
            "weighted avg   0.873100  0.879161  0.870669  8532.000000\n",
            "\n",
            "================================================================================\n",
            "\n",
            "Model: Random Forest with TF-IDF\n",
            "Accuracy: 0.7944210032817628\n",
            "              precision    recall  f1-score      support\n",
            "Bad            1.000000  0.000570  0.001139  1755.000000\n",
            "Good           0.794397  1.000000  0.885419  6777.000000\n",
            "accuracy       0.794421  0.794421  0.794421     0.794421\n",
            "macro avg      0.897198  0.500285  0.443279  8532.000000\n",
            "weighted avg   0.836689  0.794421  0.703526  8532.000000\n",
            "\n",
            "================================================================================\n",
            "\n",
            "Model: Logistic Regression with TF-IDF n-grams\n",
            "Accuracy: 0.8116502578527895\n",
            "              precision    recall  f1-score     support\n",
            "Bad            0.940476  0.090028  0.164327  1755.00000\n",
            "Good           0.809063  0.998524  0.893864  6777.00000\n",
            "accuracy       0.811650  0.811650  0.811650     0.81165\n",
            "macro avg      0.874769  0.544276  0.529095  8532.00000\n",
            "weighted avg   0.836094  0.811650  0.743801  8532.00000\n",
            "\n",
            "================================================================================\n",
            "\n",
            "Model: Random Forest with TF-IDF n-grams\n",
            "Accuracy: 0.7943037974683544\n",
            "              precision    recall  f1-score      support\n",
            "Bad            0.000000  0.000000  0.000000  1755.000000\n",
            "Good           0.794304  1.000000  0.885362  6777.000000\n",
            "accuracy       0.794304  0.794304  0.794304     0.794304\n",
            "macro avg      0.397152  0.500000  0.442681  8532.000000\n",
            "weighted avg   0.630919  0.794304  0.703246  8532.000000\n",
            "\n",
            "================================================================================\n",
            "\n"
          ]
        }
      ]
    },
    {
      "cell_type": "code",
      "source": [
        "# Vectorización y entrenamiento del mejor modelo\n",
        "vectorizer = TfidfVectorizer()\n",
        "X_train_vec = vectorizer.fit_transform(X_train)\n",
        "X_test_vec = vectorizer.transform(X_test)"
      ],
      "metadata": {
        "id": "BvdSrG1k75R8"
      },
      "execution_count": 19,
      "outputs": []
    },
    {
      "cell_type": "code",
      "source": [
        "best_model = LogisticRegression(C=1.0, solver='liblinear')\n",
        "best_model.fit(X_train_vec, y_train)\n",
        "y_pred = best_model.predict(X_test_vec)"
      ],
      "metadata": {
        "id": "AI8Vs9Zd77Yf"
      },
      "execution_count": 20,
      "outputs": []
    },
    {
      "cell_type": "code",
      "source": [
        "# Matriz de confusión\n",
        "cm = confusion_matrix(y_test, y_pred)"
      ],
      "metadata": {
        "id": "9tOF69sB7-hJ"
      },
      "execution_count": 21,
      "outputs": []
    },
    {
      "cell_type": "code",
      "source": [
        "plt.figure(figsize=(8, 6))\n",
        "sns.heatmap(cm, annot=True, fmt=\"d\", cmap=\"Reds\", xticklabels=['Bad', 'Good'], yticklabels=['Bad', 'Good'])\n",
        "plt.title('Matriz de Confusión para Regresión Logística con TF-IDF')\n",
        "plt.xlabel('Predicción')\n",
        "plt.ylabel('Real')\n",
        "plt.show()"
      ],
      "metadata": {
        "id": "w4QKwNQq8CXp",
        "outputId": "e058c017-ae89-445e-a39d-e614fb8f53c3",
        "colab": {
          "base_uri": "https://localhost:8080/",
          "height": 565
        }
      },
      "execution_count": 24,
      "outputs": [
        {
          "output_type": "display_data",
          "data": {
            "text/plain": [
              "<Figure size 800x600 with 2 Axes>"
            ],
            "image/png": "[encoded data removed]"
          },
          "metadata": {}
        }
      ]
    },
    {
      "cell_type": "code",
      "source": [
        "# Parámetros ajustados\n",
        "lr_params = {\n",
        "    'C': 0.5,\n",
        "    'solver': 'liblinear'\n",
        "}\n",
        "\n",
        "rf_params = {\n",
        "    'n_estimators': 200,\n",
        "    'max_depth': 20,\n",
        "    'min_samples_split': 5,\n",
        "    'min_samples_leaf': 2,\n",
        "    'random_state': 42\n",
        "}\n",
        "\n",
        "models_adjusted = {\n",
        "    \"Logistic Regression (Adjusted)\": LogisticRegression(**lr_params),\n",
        "    \"Random Forest (Adjusted)\": RandomForestClassifier(**rf_params)\n",
        "}"
      ],
      "metadata": {
        "id": "3BN6f-v28rd1"
      },
      "execution_count": 25,
      "outputs": []
    },
    {
      "cell_type": "code",
      "source": [
        "# Combinamos modelos ajustados con los originales\n",
        "models.update(models_adjusted)"
      ],
      "metadata": {
        "id": "Z8uU0VnI8sox"
      },
      "execution_count": 26,
      "outputs": []
    },
    {
      "cell_type": "code",
      "source": [
        "# Entrenamiento y evaluación de modelos ajustados\n",
        "results = []\n",
        "\n",
        "for vec_name, vectorizer in vectorizers.items():\n",
        "    X_train_vec = vectorizer.fit_transform(X_train)\n",
        "    X_test_vec = vectorizer.transform(X_test)\n",
        "\n",
        "    for model_name, model in models.items():\n",
        "        model.fit(X_train_vec, y_train)\n",
        "        y_pred = model.predict(X_test_vec)\n",
        "\n",
        "        accuracy = accuracy_score(y_test, y_pred)\n",
        "        report = classification_report(y_test, y_pred, output_dict=True)\n",
        "        cm = confusion_matrix(y_test, y_pred)\n",
        "\n",
        "        results.append({\n",
        "            \"Model\": model_name,\n",
        "            \"Vectorizer\": vec_name,\n",
        "            \"Accuracy\": accuracy,\n",
        "            \"Report\": report,\n",
        "            \"Confusion Matrix\": cm\n",
        "        })"
      ],
      "metadata": {
        "id": "-y3_uk-68wbG"
      },
      "execution_count": 27,
      "outputs": []
    },
    {
      "cell_type": "code",
      "source": [
        "for result in results:\n",
        "    print(f\"Model: {result['Model']} with {result['Vectorizer']}\")\n",
        "    print(\"Accuracy:\", result[\"Accuracy\"])\n",
        "    df_report = pd.DataFrame(result[\"Report\"]).transpose()\n",
        "    print(df_report)\n",
        "    print(\"\\n\" + \"=\"*80 + \"\\n\")\n"
      ],
      "metadata": {
        "id": "gI4owyoq-Lul",
        "outputId": "63b625fe-5947-4542-c642-c3eaac39e9b4",
        "colab": {
          "base_uri": "https://localhost:8080/"
        }
      },
      "execution_count": 28,
      "outputs": [
        {
          "output_type": "stream",
          "name": "stdout",
          "text": [
            "Model: Logistic Regression with Count n-grams\n",
            "Accuracy: 0.8543131739334271\n",
            "              precision    recall  f1-score      support\n",
            "Bad            0.812195  0.379487  0.517282  1755.000000\n",
            "Good           0.858791  0.977276  0.914211  6777.000000\n",
            "accuracy       0.854313  0.854313  0.854313     0.854313\n",
            "macro avg      0.835493  0.678382  0.715746  8532.000000\n",
            "weighted avg   0.849207  0.854313  0.832564  8532.000000\n",
            "\n",
            "================================================================================\n",
            "\n",
            "Model: Random Forest with Count n-grams\n",
            "Accuracy: 0.7943037974683544\n",
            "              precision    recall  f1-score      support\n",
            "Bad            0.000000  0.000000  0.000000  1755.000000\n",
            "Good           0.794304  1.000000  0.885362  6777.000000\n",
            "accuracy       0.794304  0.794304  0.794304     0.794304\n",
            "macro avg      0.397152  0.500000  0.442681  8532.000000\n",
            "weighted avg   0.630919  0.794304  0.703246  8532.000000\n",
            "\n",
            "================================================================================\n",
            "\n",
            "Model: Logistic Regression (Adjusted) with Count n-grams\n",
            "Accuracy: 0.8540787623066104\n",
            "              precision    recall  f1-score      support\n",
            "Bad            0.821970  0.370940  0.511190  1755.000000\n",
            "Good           0.857364  0.979194  0.914238  6777.000000\n",
            "accuracy       0.854079  0.854079  0.854079     0.854079\n",
            "macro avg      0.839667  0.675067  0.712714  8532.000000\n",
            "weighted avg   0.850084  0.854079  0.831333  8532.000000\n",
            "\n",
            "================================================================================\n",
            "\n",
            "Model: Random Forest (Adjusted) with Count n-grams\n",
            "Accuracy: 0.7943037974683544\n",
            "              precision    recall  f1-score      support\n",
            "Bad            0.000000  0.000000  0.000000  1755.000000\n",
            "Good           0.794304  1.000000  0.885362  6777.000000\n",
            "accuracy       0.794304  0.794304  0.794304     0.794304\n",
            "macro avg      0.397152  0.500000  0.442681  8532.000000\n",
            "weighted avg   0.630919  0.794304  0.703246  8532.000000\n",
            "\n",
            "================================================================================\n",
            "\n",
            "Model: Logistic Regression with TF-IDF\n",
            "Accuracy: 0.8791608063759963\n",
            "              precision    recall  f1-score      support\n",
            "Bad            0.795752  0.554986  0.653911  1755.000000\n",
            "Good           0.893131  0.963111  0.926802  6777.000000\n",
            "accuracy       0.879161  0.879161  0.879161     0.879161\n",
            "macro avg      0.844441  0.759048  0.790356  8532.000000\n",
            "weighted avg   0.873100  0.879161  0.870669  8532.000000\n",
            "\n",
            "================================================================================\n",
            "\n",
            "Model: Random Forest with TF-IDF\n",
            "Accuracy: 0.7944210032817628\n",
            "              precision    recall  f1-score      support\n",
            "Bad            1.000000  0.000570  0.001139  1755.000000\n",
            "Good           0.794397  1.000000  0.885419  6777.000000\n",
            "accuracy       0.794421  0.794421  0.794421     0.794421\n",
            "macro avg      0.897198  0.500285  0.443279  8532.000000\n",
            "weighted avg   0.836689  0.794421  0.703526  8532.000000\n",
            "\n",
            "================================================================================\n",
            "\n",
            "Model: Logistic Regression (Adjusted) with TF-IDF\n",
            "Accuracy: 0.8762306610407876\n",
            "              precision    recall  f1-score      support\n",
            "Bad            0.817439  0.512821  0.630252  1755.000000\n",
            "Good           0.884941  0.970341  0.925676  6777.000000\n",
            "accuracy       0.876231  0.876231  0.876231     0.876231\n",
            "macro avg      0.851190  0.741581  0.777964  8532.000000\n",
            "weighted avg   0.871056  0.876231  0.864908  8532.000000\n",
            "\n",
            "================================================================================\n",
            "\n",
            "Model: Random Forest (Adjusted) with TF-IDF\n",
            "Accuracy: 0.796882325363338\n",
            "              precision    recall  f1-score      support\n",
            "Bad            1.000000  0.012536  0.024761  1755.000000\n",
            "Good           0.796357  1.000000  0.886636  6777.000000\n",
            "accuracy       0.796882  0.796882  0.796882     0.796882\n",
            "macro avg      0.898179  0.506268  0.455698  8532.000000\n",
            "weighted avg   0.838246  0.796882  0.709351  8532.000000\n",
            "\n",
            "================================================================================\n",
            "\n",
            "Model: Logistic Regression with TF-IDF n-grams\n",
            "Accuracy: 0.8116502578527895\n",
            "              precision    recall  f1-score     support\n",
            "Bad            0.940476  0.090028  0.164327  1755.00000\n",
            "Good           0.809063  0.998524  0.893864  6777.00000\n",
            "accuracy       0.811650  0.811650  0.811650     0.81165\n",
            "macro avg      0.874769  0.544276  0.529095  8532.00000\n",
            "weighted avg   0.836094  0.811650  0.743801  8532.00000\n",
            "\n",
            "================================================================================\n",
            "\n",
            "Model: Random Forest with TF-IDF n-grams\n",
            "Accuracy: 0.7943037974683544\n",
            "              precision    recall  f1-score      support\n",
            "Bad            0.000000  0.000000  0.000000  1755.000000\n",
            "Good           0.794304  1.000000  0.885362  6777.000000\n",
            "accuracy       0.794304  0.794304  0.794304     0.794304\n",
            "macro avg      0.397152  0.500000  0.442681  8532.000000\n",
            "weighted avg   0.630919  0.794304  0.703246  8532.000000\n",
            "\n",
            "================================================================================\n",
            "\n",
            "Model: Logistic Regression (Adjusted) with TF-IDF n-grams\n",
            "Accuracy: 0.796530707923113\n",
            "              precision    recall  f1-score      support\n",
            "Bad            1.000000  0.010826  0.021421  1755.000000\n",
            "Good           0.796077  1.000000  0.886462  6777.000000\n",
            "accuracy       0.796531  0.796531  0.796531     0.796531\n",
            "macro avg      0.898038  0.505413  0.453941  8532.000000\n",
            "weighted avg   0.838023  0.796531  0.708526  8532.000000\n",
            "\n",
            "================================================================================\n",
            "\n",
            "Model: Random Forest (Adjusted) with TF-IDF n-grams\n",
            "Accuracy: 0.7943037974683544\n",
            "              precision    recall  f1-score      support\n",
            "Bad            0.000000  0.000000  0.000000  1755.000000\n",
            "Good           0.794304  1.000000  0.885362  6777.000000\n",
            "accuracy       0.794304  0.794304  0.794304     0.794304\n",
            "macro avg      0.397152  0.500000  0.442681  8532.000000\n",
            "weighted avg   0.630919  0.794304  0.703246  8532.000000\n",
            "\n",
            "================================================================================\n",
            "\n"
          ]
        }
      ]
    },
    {
      "cell_type": "code",
      "source": [
        "# Vectorización y entrenamiento del mejor modelo ajustado\n",
        "vectorizer = TfidfVectorizer()\n",
        "X_train_vec = vectorizer.fit_transform(X_train)\n",
        "X_test_vec = vectorizer.transform(X_test)"
      ],
      "metadata": {
        "id": "vNoRWrYY-PNc"
      },
      "execution_count": 29,
      "outputs": []
    },
    {
      "cell_type": "code",
      "source": [
        "best_model = LogisticRegression(C=0.5, solver='liblinear')\n",
        "best_model.fit(X_train_vec, y_train)\n",
        "y_pred = best_model.predict(X_test_vec)"
      ],
      "metadata": {
        "id": "-r0rmjdr-Thj"
      },
      "execution_count": 30,
      "outputs": []
    },
    {
      "cell_type": "code",
      "source": [
        "# Matriz de confusión del mejor modelo ajustado\n",
        "cm = confusion_matrix(y_test, y_pred)"
      ],
      "metadata": {
        "id": "hgsxqbfQ-XAZ"
      },
      "execution_count": 31,
      "outputs": []
    },
    {
      "cell_type": "code",
      "source": [
        "plt.figure(figsize=(8, 6))\n",
        "sns.heatmap(cm, annot=True, fmt=\"d\", cmap=\"Reds\", xticklabels=['Bad', 'Good'], yticklabels=['Bad', 'Good'])\n",
        "plt.title('Matriz de Confusión para Logistic Regression (Adjusted) con TF-IDF')\n",
        "plt.xlabel('Predicción')\n",
        "plt.ylabel('Real')\n",
        "plt.show()"
      ],
      "metadata": {
        "id": "4iJQzNYm-Zic",
        "outputId": "6cf9150e-ab4f-47ab-9efa-77a5729a5376",
        "colab": {
          "base_uri": "https://localhost:8080/",
          "height": 565
        }
      },
      "execution_count": 32,
      "outputs": [
        {
          "output_type": "display_data",
          "data": {
            "text/plain": [
              "<Figure size 800x600 with 2 Axes>"
            ],
            "image/png": "[encoded data removed]"
          },
          "metadata": {}
        }
      ]
    }
  ],
  "metadata": {
    "colab": {
      "name": "Welcome To Colab",
      "provenance": [],
      "include_colab_link": true
    },
    "kernelspec": {
      "display_name": "Python 3",
      "name": "python3"
    }
  },
  "nbformat": 4,
  "nbformat_minor": 0
}